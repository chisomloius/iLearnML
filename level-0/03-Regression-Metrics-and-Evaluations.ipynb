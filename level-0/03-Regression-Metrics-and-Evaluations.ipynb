{
 "cells": [
  {
   "cell_type": "markdown",
   "id": "31dcbe08-f556-475d-bdc8-f1802d329e29",
   "metadata": {},
   "source": [
    "# REGRESSION METRICS"
   ]
  },
  {
   "cell_type": "code",
   "execution_count": null,
   "id": "4d7cf83f-8d4d-40f1-b5c4-3dbe9f1f0bec",
   "metadata": {},
   "outputs": [],
   "source": [
    "## TABLE OF CONTENT\n",
    "\n",
    "|S/N| CONTENT                                       |\n",
    "|---|---------------------------------------------- |\n",
    "|1| [MATPLOTLIB](#matplotlib)                       |\n",
    "|2| [SEABORN](#seaborn)                             |\n",
    "|3| [FOLIUM](#folium)                               |\n",
    "|4| [WORD CLOUD](#wordcloud)                        |\n",
    "|5| [REFERENCE](#reference)                         |"
   ]
  },
  {
   "cell_type": "code",
   "execution_count": null,
   "id": "19c3d751-6458-47a7-a0e4-5bf35c69cb3a",
   "metadata": {},
   "outputs": [],
   "source": []
  },
  {
   "cell_type": "code",
   "execution_count": null,
   "id": "a3ca9288-1921-4d59-accf-db89f08510c9",
   "metadata": {},
   "outputs": [],
   "source": []
  },
  {
   "cell_type": "code",
   "execution_count": null,
   "id": "dae05222-33c6-42e6-bc79-6bd15ef2f8d0",
   "metadata": {},
   "outputs": [],
   "source": []
  },
  {
   "cell_type": "code",
   "execution_count": null,
   "id": "08ac76a9-3030-4a17-bc61-76c5da091b36",
   "metadata": {},
   "outputs": [],
   "source": []
  },
  {
   "cell_type": "code",
   "execution_count": null,
   "id": "91776c93-a9d3-49db-9502-83e0e8eb078f",
   "metadata": {},
   "outputs": [],
   "source": []
  },
  {
   "cell_type": "code",
   "execution_count": null,
   "id": "e2186dd8-d152-40d8-9d5f-5b5980726af4",
   "metadata": {},
   "outputs": [],
   "source": []
  },
  {
   "cell_type": "code",
   "execution_count": null,
   "id": "8742cf6d-f7b4-4936-b63b-605d3957f983",
   "metadata": {},
   "outputs": [],
   "source": []
  },
  {
   "cell_type": "code",
   "execution_count": null,
   "id": "c05ae001-c6e7-4ec3-8358-546a798b3891",
   "metadata": {},
   "outputs": [],
   "source": []
  },
  {
   "cell_type": "code",
   "execution_count": null,
   "id": "d22ea493-c7ef-4357-a4ad-1ccaba363023",
   "metadata": {},
   "outputs": [],
   "source": []
  },
  {
   "cell_type": "code",
   "execution_count": null,
   "id": "23859605-6bf9-469b-9843-e81e1027ef0c",
   "metadata": {},
   "outputs": [],
   "source": []
  },
  {
   "cell_type": "code",
   "execution_count": null,
   "id": "53ae6d1f-484a-41b0-8a4d-5c5e9eb069af",
   "metadata": {},
   "outputs": [],
   "source": []
  },
  {
   "cell_type": "code",
   "execution_count": null,
   "id": "a0af2bd4-7757-43d0-a2b8-c9cd0c9f30a8",
   "metadata": {},
   "outputs": [],
   "source": []
  },
  {
   "cell_type": "code",
   "execution_count": null,
   "id": "3e4048db-acb3-4f81-9c5c-bb18be25767a",
   "metadata": {},
   "outputs": [],
   "source": []
  },
  {
   "cell_type": "code",
   "execution_count": null,
   "id": "9ee72a5a-76ba-4916-b0b6-6f1ecce18c61",
   "metadata": {},
   "outputs": [],
   "source": []
  },
  {
   "cell_type": "code",
   "execution_count": null,
   "id": "3b2fa794-5b41-4f8f-9266-799238b7e180",
   "metadata": {},
   "outputs": [],
   "source": []
  },
  {
   "cell_type": "code",
   "execution_count": null,
   "id": "a9c67eac-d970-4ff6-9041-068fd4d3b1de",
   "metadata": {},
   "outputs": [],
   "source": []
  },
  {
   "cell_type": "code",
   "execution_count": null,
   "id": "2016fbf4-5dc6-4b73-aa42-bda1f091dad7",
   "metadata": {},
   "outputs": [],
   "source": []
  },
  {
   "cell_type": "code",
   "execution_count": null,
   "id": "ff9fc2a5-2355-4336-a52c-71c01dd91cd6",
   "metadata": {},
   "outputs": [],
   "source": []
  },
  {
   "cell_type": "code",
   "execution_count": null,
   "id": "a6a5748d-8f5f-4f6d-80f9-10ad8891468a",
   "metadata": {},
   "outputs": [],
   "source": []
  },
  {
   "cell_type": "code",
   "execution_count": null,
   "id": "fa1f1e76-bb0f-46da-8761-d1c4c10e0ce8",
   "metadata": {},
   "outputs": [],
   "source": []
  },
  {
   "cell_type": "code",
   "execution_count": null,
   "id": "67170942-7b00-47fc-b376-d95239323b6d",
   "metadata": {},
   "outputs": [],
   "source": []
  },
  {
   "cell_type": "code",
   "execution_count": null,
   "id": "95701a22-5774-4df1-9c0e-fbddeb484da1",
   "metadata": {},
   "outputs": [],
   "source": []
  },
  {
   "cell_type": "code",
   "execution_count": null,
   "id": "d3bbcd1a-22db-44b7-828a-84629a71dfb4",
   "metadata": {},
   "outputs": [],
   "source": []
  },
  {
   "cell_type": "code",
   "execution_count": null,
   "id": "a549b2a8-8da8-4749-8ecc-3965f1880d6e",
   "metadata": {},
   "outputs": [],
   "source": []
  },
  {
   "cell_type": "code",
   "execution_count": null,
   "id": "7faa2b9d-374b-48b2-b2ec-21cb87725fe8",
   "metadata": {},
   "outputs": [],
   "source": []
  },
  {
   "cell_type": "code",
   "execution_count": null,
   "id": "55d0bcc0-80af-4f84-8a62-296af01e3c2a",
   "metadata": {},
   "outputs": [],
   "source": []
  },
  {
   "cell_type": "code",
   "execution_count": null,
   "id": "a0b2f412-ca1c-4774-b123-54b774905dcc",
   "metadata": {},
   "outputs": [],
   "source": []
  },
  {
   "cell_type": "code",
   "execution_count": null,
   "id": "7ca9e549-f82a-4344-b3ea-df3371062d75",
   "metadata": {},
   "outputs": [],
   "source": []
  },
  {
   "cell_type": "code",
   "execution_count": null,
   "id": "98355fba-ac78-4daf-97bf-10cfcca10aa3",
   "metadata": {},
   "outputs": [],
   "source": []
  },
  {
   "cell_type": "code",
   "execution_count": null,
   "id": "05fc27ec-195f-43dd-836e-15632b08c939",
   "metadata": {},
   "outputs": [],
   "source": []
  },
  {
   "cell_type": "code",
   "execution_count": null,
   "id": "8e3995c9-70e3-406d-8c13-b3b6d0f18291",
   "metadata": {},
   "outputs": [],
   "source": []
  }
 ],
 "metadata": {
  "kernelspec": {
   "display_name": "Python 3 (ipykernel)",
   "language": "python",
   "name": "python3"
  },
  "language_info": {
   "codemirror_mode": {
    "name": "ipython",
    "version": 3
   },
   "file_extension": ".py",
   "mimetype": "text/x-python",
   "name": "python",
   "nbconvert_exporter": "python",
   "pygments_lexer": "ipython3",
   "version": "3.10.9"
  }
 },
 "nbformat": 4,
 "nbformat_minor": 5
}
