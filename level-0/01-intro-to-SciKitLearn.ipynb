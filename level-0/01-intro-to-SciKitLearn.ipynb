{
 "cells": [
  {
   "cell_type": "markdown",
   "id": "94e44b5e-3a7f-460d-b5f5-a63e4daf08a6",
   "metadata": {},
   "source": [
    "# INTRODUCTION TO SCIKIT-LEARN"
   ]
  },
  {
   "cell_type": "code",
   "execution_count": null,
   "id": "51cefe2d-2168-4434-a04d-dcc82d3b8d68",
   "metadata": {},
   "outputs": [],
   "source": [
    "## TABLE OF CONTENT\n",
    "\n",
    "|S/N| CONTENT                                       |\n",
    "|---|---------------------------------------------- |\n",
    "|1| [MATPLOTLIB](#matplotlib)                       |\n",
    "|2| [SEABORN](#seaborn)                             |\n",
    "|3| [FOLIUM](#folium)                               |\n",
    "|4| [WORD CLOUD](#wordcloud)                        |\n",
    "|5| [REFERENCE](#reference)                         |"
   ]
  },
  {
   "cell_type": "code",
   "execution_count": null,
   "id": "5489a610-5018-4df4-b04d-c62a8700d8af",
   "metadata": {},
   "outputs": [],
   "source": []
  },
  {
   "cell_type": "code",
   "execution_count": null,
   "id": "8c8ffc06-bf59-4494-83df-d1054e878da2",
   "metadata": {},
   "outputs": [],
   "source": []
  },
  {
   "cell_type": "code",
   "execution_count": null,
   "id": "8f70f889-960c-411f-a675-6080cd88fce9",
   "metadata": {},
   "outputs": [],
   "source": []
  },
  {
   "cell_type": "code",
   "execution_count": null,
   "id": "20c1b8fe-8008-455a-9034-d1933fbebe26",
   "metadata": {},
   "outputs": [],
   "source": []
  },
  {
   "cell_type": "code",
   "execution_count": null,
   "id": "8ce5af9d-af22-41e0-a46a-a635f5034be3",
   "metadata": {},
   "outputs": [],
   "source": []
  },
  {
   "cell_type": "code",
   "execution_count": null,
   "id": "19d50e79-feb9-4eb9-95dc-2dd7da48dedd",
   "metadata": {},
   "outputs": [],
   "source": []
  },
  {
   "cell_type": "code",
   "execution_count": null,
   "id": "372eb006-441d-49d7-a8fc-a2c1ef479399",
   "metadata": {},
   "outputs": [],
   "source": []
  },
  {
   "cell_type": "code",
   "execution_count": null,
   "id": "3ea9f8a4-e249-41cd-816d-29a0c99fc1f4",
   "metadata": {},
   "outputs": [],
   "source": []
  },
  {
   "cell_type": "code",
   "execution_count": null,
   "id": "48db5427-5988-46e0-ba88-2fbbdf9162c1",
   "metadata": {},
   "outputs": [],
   "source": []
  },
  {
   "cell_type": "code",
   "execution_count": null,
   "id": "969a050f-be26-4f08-82c2-6bf7b2a5f168",
   "metadata": {},
   "outputs": [],
   "source": []
  },
  {
   "cell_type": "code",
   "execution_count": null,
   "id": "876461aa-62d4-4b4a-ad67-8bc952607a67",
   "metadata": {},
   "outputs": [],
   "source": []
  },
  {
   "cell_type": "code",
   "execution_count": null,
   "id": "fc68fa0b-c0fc-46d3-ab7e-290b9c133407",
   "metadata": {},
   "outputs": [],
   "source": []
  },
  {
   "cell_type": "code",
   "execution_count": null,
   "id": "ff74df4c-912f-45e9-8b57-efea8966ff59",
   "metadata": {},
   "outputs": [],
   "source": []
  },
  {
   "cell_type": "code",
   "execution_count": null,
   "id": "59a9e223-fef9-4b61-8c33-d45350deb3a0",
   "metadata": {},
   "outputs": [],
   "source": []
  },
  {
   "cell_type": "code",
   "execution_count": null,
   "id": "75e73a60-b20a-44ac-aca3-741e608a93cc",
   "metadata": {},
   "outputs": [],
   "source": []
  },
  {
   "cell_type": "code",
   "execution_count": null,
   "id": "9566b24d-7a7e-4888-a046-56048e24337a",
   "metadata": {},
   "outputs": [],
   "source": []
  },
  {
   "cell_type": "code",
   "execution_count": null,
   "id": "c6543e72-4251-4abe-ad10-6297e0004000",
   "metadata": {},
   "outputs": [],
   "source": []
  },
  {
   "cell_type": "code",
   "execution_count": null,
   "id": "be16ba02-646d-4a7e-91f0-265405b2c0ea",
   "metadata": {},
   "outputs": [],
   "source": []
  },
  {
   "cell_type": "code",
   "execution_count": null,
   "id": "fbd9d786-0716-409a-8967-e4a0ff9a4782",
   "metadata": {},
   "outputs": [],
   "source": []
  },
  {
   "cell_type": "code",
   "execution_count": null,
   "id": "bf58f4ca-7e3a-430c-8812-0c2f5dc44cd6",
   "metadata": {},
   "outputs": [],
   "source": []
  },
  {
   "cell_type": "code",
   "execution_count": null,
   "id": "79fa074d-c05b-4640-a084-07a2f5da14ea",
   "metadata": {},
   "outputs": [],
   "source": []
  },
  {
   "cell_type": "code",
   "execution_count": null,
   "id": "2c002b69-7bfb-491a-b6ab-c66de375324d",
   "metadata": {},
   "outputs": [],
   "source": []
  },
  {
   "cell_type": "code",
   "execution_count": null,
   "id": "e1efe826-8a00-49b1-99b7-a28c0f4f66d2",
   "metadata": {},
   "outputs": [],
   "source": []
  },
  {
   "cell_type": "code",
   "execution_count": null,
   "id": "bf2c30ff-b6c2-40cf-bc39-619b7376cab6",
   "metadata": {},
   "outputs": [],
   "source": []
  },
  {
   "cell_type": "code",
   "execution_count": null,
   "id": "448fe703-967b-402f-9bec-d96e2241e633",
   "metadata": {},
   "outputs": [],
   "source": []
  },
  {
   "cell_type": "code",
   "execution_count": null,
   "id": "4b4e5b5e-d135-4595-88a6-3dfc345d58df",
   "metadata": {},
   "outputs": [],
   "source": []
  },
  {
   "cell_type": "code",
   "execution_count": null,
   "id": "70db3b3c-5499-4498-bff8-a7e82b7dbda9",
   "metadata": {},
   "outputs": [],
   "source": []
  },
  {
   "cell_type": "code",
   "execution_count": null,
   "id": "4537ebd1-3a1d-45b0-b8ad-59ca7ec194a5",
   "metadata": {},
   "outputs": [],
   "source": []
  }
 ],
 "metadata": {
  "kernelspec": {
   "display_name": "Python 3 (ipykernel)",
   "language": "python",
   "name": "python3"
  },
  "language_info": {
   "codemirror_mode": {
    "name": "ipython",
    "version": 3
   },
   "file_extension": ".py",
   "mimetype": "text/x-python",
   "name": "python",
   "nbconvert_exporter": "python",
   "pygments_lexer": "ipython3",
   "version": "3.10.9"
  }
 },
 "nbformat": 4,
 "nbformat_minor": 5
}
