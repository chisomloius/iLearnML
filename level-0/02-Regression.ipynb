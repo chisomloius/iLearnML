{
 "cells": [
  {
   "cell_type": "markdown",
   "id": "43ff22ad-ffc5-4bc7-bad8-e0616665da11",
   "metadata": {},
   "source": [
    "# INTRODUCTION TO REGRESSION METRICS"
   ]
  },
  {
   "cell_type": "code",
   "execution_count": null,
   "id": "d20088b6-842f-4601-bfe6-c7c4d095dfc3",
   "metadata": {},
   "outputs": [],
   "source": [
    "## TABLE OF CONTENT\n",
    "\n",
    "|S/N| CONTENT                                       |\n",
    "|---|---------------------------------------------- |\n",
    "|1| [MATPLOTLIB](#matplotlib)                       |\n",
    "|2| [SEABORN](#seaborn)                             |\n",
    "|3| [FOLIUM](#folium)                               |\n",
    "|4| [WORD CLOUD](#wordcloud)                        |\n",
    "|5| [REFERENCE](#reference)                         |"
   ]
  },
  {
   "cell_type": "code",
   "execution_count": null,
   "id": "6e11ea7c-19e0-451e-9b34-2eba0f8b7ed1",
   "metadata": {},
   "outputs": [],
   "source": []
  },
  {
   "cell_type": "code",
   "execution_count": null,
   "id": "e19846a7-9e62-41e9-aeb9-5104189786b1",
   "metadata": {},
   "outputs": [],
   "source": []
  },
  {
   "cell_type": "code",
   "execution_count": null,
   "id": "ea0046ea-6ad3-45ff-8079-e63d647101fa",
   "metadata": {},
   "outputs": [],
   "source": []
  },
  {
   "cell_type": "code",
   "execution_count": null,
   "id": "4b08ac0c-a433-4eb0-9b8c-8902de1008d3",
   "metadata": {},
   "outputs": [],
   "source": []
  },
  {
   "cell_type": "code",
   "execution_count": null,
   "id": "464365d4-710c-43ac-8533-09cf586f1e27",
   "metadata": {},
   "outputs": [],
   "source": []
  },
  {
   "cell_type": "code",
   "execution_count": null,
   "id": "c66360b3-577d-4ddb-a5bb-3a195700d4a6",
   "metadata": {},
   "outputs": [],
   "source": []
  },
  {
   "cell_type": "code",
   "execution_count": null,
   "id": "1e56753a-14c2-4fb6-9a69-aa91cb8683d9",
   "metadata": {},
   "outputs": [],
   "source": []
  },
  {
   "cell_type": "code",
   "execution_count": null,
   "id": "aeeb6f0d-eded-49da-99ed-a6765f200eb3",
   "metadata": {},
   "outputs": [],
   "source": []
  },
  {
   "cell_type": "code",
   "execution_count": null,
   "id": "0c20a6ed-90ca-4c93-a68d-e1718d346faf",
   "metadata": {},
   "outputs": [],
   "source": []
  },
  {
   "cell_type": "code",
   "execution_count": null,
   "id": "da0766fc-0637-4c24-8a8d-8b6a4408ec70",
   "metadata": {},
   "outputs": [],
   "source": []
  },
  {
   "cell_type": "code",
   "execution_count": null,
   "id": "555d9067-046e-47ab-8571-4d30b86f42e4",
   "metadata": {},
   "outputs": [],
   "source": []
  },
  {
   "cell_type": "code",
   "execution_count": null,
   "id": "ab7ef758-9ef1-4766-ae07-35887d7a56be",
   "metadata": {},
   "outputs": [],
   "source": []
  },
  {
   "cell_type": "code",
   "execution_count": null,
   "id": "c475fa6e-c612-4f0c-b42f-1cc713fa3d0f",
   "metadata": {},
   "outputs": [],
   "source": []
  },
  {
   "cell_type": "code",
   "execution_count": null,
   "id": "92f5fc51-f933-47c7-9405-3a482eb0cdbd",
   "metadata": {},
   "outputs": [],
   "source": []
  },
  {
   "cell_type": "code",
   "execution_count": null,
   "id": "d38d02e1-587c-49a7-bc33-3d74e9181732",
   "metadata": {},
   "outputs": [],
   "source": []
  },
  {
   "cell_type": "code",
   "execution_count": null,
   "id": "41175a80-2f1f-479a-92db-a4f1022f949c",
   "metadata": {},
   "outputs": [],
   "source": []
  },
  {
   "cell_type": "code",
   "execution_count": null,
   "id": "28b1bc10-6bd0-4cc5-a4ef-95fedde43e68",
   "metadata": {},
   "outputs": [],
   "source": []
  },
  {
   "cell_type": "code",
   "execution_count": null,
   "id": "cc9448d6-ca03-46f7-9cc0-a076d8efa297",
   "metadata": {},
   "outputs": [],
   "source": []
  },
  {
   "cell_type": "code",
   "execution_count": null,
   "id": "30f0f584-597d-467f-ad60-e729fb6a3703",
   "metadata": {},
   "outputs": [],
   "source": []
  },
  {
   "cell_type": "code",
   "execution_count": null,
   "id": "e6fdbe7d-bb20-4157-89d4-977e82adcf6c",
   "metadata": {},
   "outputs": [],
   "source": []
  },
  {
   "cell_type": "code",
   "execution_count": null,
   "id": "394b4f8d-cd70-4c96-85d0-7341f33b3978",
   "metadata": {},
   "outputs": [],
   "source": []
  },
  {
   "cell_type": "code",
   "execution_count": null,
   "id": "87e1a33a-57e7-4db3-90a2-a3cbaa58ecf0",
   "metadata": {},
   "outputs": [],
   "source": []
  },
  {
   "cell_type": "code",
   "execution_count": null,
   "id": "9c877e40-dbf0-4ebf-b505-99f4bb2b3169",
   "metadata": {},
   "outputs": [],
   "source": []
  },
  {
   "cell_type": "code",
   "execution_count": null,
   "id": "a6854cd7-0759-4ebd-be59-131be18a8c01",
   "metadata": {},
   "outputs": [],
   "source": []
  },
  {
   "cell_type": "code",
   "execution_count": null,
   "id": "5c75ad88-8998-4ce1-a865-20e7cf2e4732",
   "metadata": {},
   "outputs": [],
   "source": []
  },
  {
   "cell_type": "code",
   "execution_count": null,
   "id": "ea132636-9ea0-434c-bf01-b42d4cfe7e08",
   "metadata": {},
   "outputs": [],
   "source": []
  },
  {
   "cell_type": "code",
   "execution_count": null,
   "id": "9beccf9b-da4c-40d2-aee4-f10efe986402",
   "metadata": {},
   "outputs": [],
   "source": []
  },
  {
   "cell_type": "code",
   "execution_count": null,
   "id": "a263e756-f50a-4ae1-b9d7-1c8a271405da",
   "metadata": {},
   "outputs": [],
   "source": []
  },
  {
   "cell_type": "code",
   "execution_count": null,
   "id": "fb661d86-bd77-4530-90d1-6fec26d18fa8",
   "metadata": {},
   "outputs": [],
   "source": []
  },
  {
   "cell_type": "code",
   "execution_count": null,
   "id": "f5ae8188-956a-41ac-9cbb-fe16d870ce13",
   "metadata": {},
   "outputs": [],
   "source": []
  },
  {
   "cell_type": "code",
   "execution_count": null,
   "id": "92b46a2f-e9d8-4c84-b557-01f889807620",
   "metadata": {},
   "outputs": [],
   "source": []
  },
  {
   "cell_type": "code",
   "execution_count": null,
   "id": "f62d3cab-e517-4286-9ef4-4d5524578619",
   "metadata": {},
   "outputs": [],
   "source": []
  },
  {
   "cell_type": "code",
   "execution_count": null,
   "id": "f40921cd-5cb6-4356-afc7-f9d4cb6c1966",
   "metadata": {},
   "outputs": [],
   "source": []
  },
  {
   "cell_type": "code",
   "execution_count": null,
   "id": "bcd83efd-425a-4783-af59-df27e808b988",
   "metadata": {},
   "outputs": [],
   "source": []
  },
  {
   "cell_type": "code",
   "execution_count": null,
   "id": "41b1de88-4287-4cdd-939f-1f2bd4b4c7da",
   "metadata": {},
   "outputs": [],
   "source": []
  }
 ],
 "metadata": {
  "kernelspec": {
   "display_name": "Python 3 (ipykernel)",
   "language": "python",
   "name": "python3"
  },
  "language_info": {
   "codemirror_mode": {
    "name": "ipython",
    "version": 3
   },
   "file_extension": ".py",
   "mimetype": "text/x-python",
   "name": "python",
   "nbconvert_exporter": "python",
   "pygments_lexer": "ipython3",
   "version": "3.10.9"
  }
 },
 "nbformat": 4,
 "nbformat_minor": 5
}
